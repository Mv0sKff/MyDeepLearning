{
  "cells": [
    {
      "cell_type": "markdown",
      "metadata": {
        "id": "view-in-github",
        "colab_type": "text"
      },
      "source": [
        "<a href=\"https://colab.research.google.com/github/Mv0sKff/MyDeepLearning/blob/main/week_9/assignment_mnistGAN.ipynb\" target=\"_parent\"><img src=\"https://colab.research.google.com/assets/colab-badge.svg\" alt=\"Open In Colab\"/></a>"
      ]
    },
    {
      "cell_type": "markdown",
      "metadata": {
        "id": "9JCiZj8OVZOA",
        "papermill": {
          "duration": 0.010897,
          "end_time": "2020-08-17T09:55:39.401285",
          "exception": false,
          "start_time": "2020-08-17T09:55:39.390388",
          "status": "completed"
        },
        "tags": []
      },
      "source": [
        "# Asignemnt: MNIST GAN\n",
        "## Load the Data\n",
        "\n",
        "We begin by downloading and importing the data as a PyTorch dataset using the `MNIST` helper class from `torchvision.datasets`."
      ]
    },
    {
      "cell_type": "code",
      "execution_count": 57,
      "metadata": {
        "execution": {
          "iopub.execute_input": "2020-08-17T09:55:39.430976Z",
          "iopub.status.busy": "2020-08-17T09:55:39.430373Z",
          "iopub.status.idle": "2020-08-17T09:55:42.664332Z",
          "shell.execute_reply": "2020-08-17T09:55:42.665107Z"
        },
        "id": "UyBhQNYFVZOB",
        "papermill": {
          "duration": 3.252756,
          "end_time": "2020-08-17T09:55:42.665363",
          "exception": false,
          "start_time": "2020-08-17T09:55:39.412607",
          "status": "completed"
        },
        "tags": []
      },
      "outputs": [],
      "source": [
        "import torch\n",
        "import torchvision\n",
        "from torchvision.transforms import ToTensor, Normalize, Compose\n",
        "from torchvision.datasets import MNIST\n",
        "\n",
        "mnist = MNIST(root='data',\n",
        "              train=True,\n",
        "              download=True,\n",
        "              transform=Compose([ToTensor(), Normalize(mean=(0.5,), std=(0.5,))]))"
      ]
    },
    {
      "cell_type": "markdown",
      "metadata": {
        "id": "8KZFYl-KVZOD",
        "papermill": {
          "duration": 0.012072,
          "end_time": "2020-08-17T09:55:42.690789",
          "exception": false,
          "start_time": "2020-08-17T09:55:42.678717",
          "status": "completed"
        },
        "tags": []
      },
      "source": [
        "Note that we are are transforming the pixel values from the range `[0, 1]` to the range `[-1, 1]`. Makes generation easier..."
      ]
    },
    {
      "cell_type": "code",
      "execution_count": 58,
      "metadata": {
        "colab": {
          "base_uri": "https://localhost:8080/"
        },
        "execution": {
          "iopub.execute_input": "2020-08-17T09:55:42.725122Z",
          "iopub.status.busy": "2020-08-17T09:55:42.724389Z",
          "iopub.status.idle": "2020-08-17T09:55:42.788396Z",
          "shell.execute_reply": "2020-08-17T09:55:42.782500Z"
        },
        "id": "ZFBOkKZkVZOD",
        "outputId": "473ea8ee-25ab-4564-e346-2ea086cea68f",
        "papermill": {
          "duration": 0.085619,
          "end_time": "2020-08-17T09:55:42.788514",
          "exception": false,
          "start_time": "2020-08-17T09:55:42.702895",
          "status": "completed"
        },
        "tags": []
      },
      "outputs": [
        {
          "output_type": "stream",
          "name": "stdout",
          "text": [
            "Label:  5\n",
            "tensor([[[-0.9922,  0.2078,  0.9843, -0.2941, -1.0000],\n",
            "         [-1.0000,  0.0902,  0.9843,  0.4902, -0.9843],\n",
            "         [-1.0000, -0.9137,  0.4902,  0.9843, -0.4510],\n",
            "         [-1.0000, -1.0000, -0.7255,  0.8902,  0.7647],\n",
            "         [-1.0000, -1.0000, -1.0000, -0.3647,  0.8824]]])\n"
          ]
        },
        {
          "output_type": "execute_result",
          "data": {
            "text/plain": [
              "(tensor(-1.), tensor(1.))"
            ]
          },
          "metadata": {},
          "execution_count": 58
        }
      ],
      "source": [
        "img, label = mnist[0]\n",
        "print('Label: ', label)\n",
        "print(img[:,10:15,10:15])\n",
        "torch.min(img), torch.max(img)"
      ]
    },
    {
      "cell_type": "markdown",
      "metadata": {
        "id": "3xOZQHezVZOE",
        "papermill": {
          "duration": 0.013308,
          "end_time": "2020-08-17T09:55:42.814142",
          "exception": false,
          "start_time": "2020-08-17T09:55:42.800834",
          "status": "completed"
        },
        "tags": []
      },
      "source": [
        "As expected, the pixel values range from -1 to 1. Let's define a helper to denormalize and view the images. This function will also be useful for viewing the generated images."
      ]
    },
    {
      "cell_type": "code",
      "execution_count": 59,
      "metadata": {
        "execution": {
          "iopub.execute_input": "2020-08-17T09:55:42.849271Z",
          "iopub.status.busy": "2020-08-17T09:55:42.848521Z",
          "iopub.status.idle": "2020-08-17T09:55:42.851013Z",
          "shell.execute_reply": "2020-08-17T09:55:42.851527Z"
        },
        "id": "GiM08EQuVZOE",
        "papermill": {
          "duration": 0.019789,
          "end_time": "2020-08-17T09:55:42.851649",
          "exception": false,
          "start_time": "2020-08-17T09:55:42.831860",
          "status": "completed"
        },
        "tags": []
      },
      "outputs": [],
      "source": [
        "def denorm(x):\n",
        "    out = (x + 1) / 2\n",
        "    return out.clamp(0, 1)"
      ]
    },
    {
      "cell_type": "code",
      "execution_count": 60,
      "metadata": {
        "colab": {
          "base_uri": "https://localhost:8080/",
          "height": 447
        },
        "execution": {
          "iopub.execute_input": "2020-08-17T09:55:42.883860Z",
          "iopub.status.busy": "2020-08-17T09:55:42.882727Z",
          "iopub.status.idle": "2020-08-17T09:55:43.083285Z",
          "shell.execute_reply": "2020-08-17T09:55:43.083826Z"
        },
        "id": "q8z7O5ZLVZOF",
        "outputId": "ae449c8d-d0d2-40c1-c074-b47e817c26ca",
        "papermill": {
          "duration": 0.220307,
          "end_time": "2020-08-17T09:55:43.083967",
          "exception": false,
          "start_time": "2020-08-17T09:55:42.863660",
          "status": "completed"
        },
        "tags": []
      },
      "outputs": [
        {
          "output_type": "stream",
          "name": "stdout",
          "text": [
            "Label: 5\n"
          ]
        },
        {
          "output_type": "display_data",
          "data": {
            "text/plain": [
              "<Figure size 640x480 with 1 Axes>"
            ],
            "image/png": "[encoded data removed]"
          },
          "metadata": {}
        }
      ],
      "source": [
        "import matplotlib.pyplot as plt\n",
        "%matplotlib inline\n",
        "\n",
        "img_norm = denorm(img)\n",
        "plt.imshow(img_norm[0], cmap='gray')\n",
        "print('Label:', label)"
      ]
    },
    {
      "cell_type": "markdown",
      "metadata": {
        "id": "YpT-vul1VZOF",
        "papermill": {
          "duration": 0.013492,
          "end_time": "2020-08-17T09:55:43.111291",
          "exception": false,
          "start_time": "2020-08-17T09:55:43.097799",
          "status": "completed"
        },
        "tags": []
      },
      "source": [
        "Finally, let's create a dataloader to load the images in batches."
      ]
    },
    {
      "cell_type": "code",
      "execution_count": 61,
      "metadata": {
        "execution": {
          "iopub.execute_input": "2020-08-17T09:55:43.143065Z",
          "iopub.status.busy": "2020-08-17T09:55:43.142277Z",
          "iopub.status.idle": "2020-08-17T09:55:43.145197Z",
          "shell.execute_reply": "2020-08-17T09:55:43.145792Z"
        },
        "id": "LCe0U6iaVZOG",
        "papermill": {
          "duration": 0.021138,
          "end_time": "2020-08-17T09:55:43.145917",
          "exception": false,
          "start_time": "2020-08-17T09:55:43.124779",
          "status": "completed"
        },
        "tags": []
      },
      "outputs": [],
      "source": [
        "from torch.utils.data import DataLoader\n",
        "\n",
        "batch_size = 512\n",
        "data_loader = DataLoader(mnist, batch_size, shuffle=True)"
      ]
    },
    {
      "cell_type": "code",
      "execution_count": 62,
      "metadata": {
        "colab": {
          "base_uri": "https://localhost:8080/",
          "height": 847
        },
        "execution": {
          "iopub.execute_input": "2020-08-17T09:55:43.178132Z",
          "iopub.status.busy": "2020-08-17T09:55:43.177398Z",
          "iopub.status.idle": "2020-08-17T09:55:43.350810Z",
          "shell.execute_reply": "2020-08-17T09:55:43.350272Z"
        },
        "id": "hpsIHp7ZVZOG",
        "outputId": "53dbbfe7-9430-4ac3-d96e-f99e5d8b4a5c",
        "papermill": {
          "duration": 0.192473,
          "end_time": "2020-08-17T09:55:43.350929",
          "exception": false,
          "start_time": "2020-08-17T09:55:43.158456",
          "status": "completed"
        },
        "tags": []
      },
      "outputs": [
        {
          "output_type": "stream",
          "name": "stdout",
          "text": [
            "first batch\n",
            "torch.Size([512, 1, 28, 28])\n",
            "tensor([2, 5, 1, 2, 7, 9, 2, 8, 6, 9, 9, 3, 9, 0, 8, 1, 6, 7, 0, 7, 0, 0, 4, 3,\n",
            "        9, 2, 2, 2, 3, 7, 6, 5, 9, 7, 2, 7, 8, 7, 8, 7, 9, 8, 4, 2, 2, 1, 7, 7,\n",
            "        2, 8, 7, 4, 2, 4, 0, 8, 3, 3, 7, 0, 9, 1, 9, 6, 9, 3, 2, 4, 9, 9, 0, 8,\n",
            "        6, 3, 6, 2, 3, 9, 6, 1, 0, 9, 4, 5, 4, 1, 4, 3, 5, 3, 3, 6, 2, 9, 5, 3,\n",
            "        3, 9, 8, 1, 3, 1, 1, 5, 0, 8, 2, 8, 3, 9, 4, 7, 8, 1, 2, 2, 3, 0, 8, 9,\n",
            "        9, 1, 2, 1, 8, 2, 1, 0, 5, 8, 0, 4, 8, 5, 2, 7, 2, 3, 4, 6, 3, 7, 8, 6,\n",
            "        8, 3, 2, 6, 9, 6, 2, 0, 3, 4, 8, 6, 2, 5, 9, 8, 8, 3, 2, 4, 7, 9, 1, 7,\n",
            "        7, 2, 3, 9, 9, 0, 4, 0, 9, 5, 1, 6, 6, 8, 1, 7, 5, 6, 6, 6, 3, 1, 5, 9,\n",
            "        6, 8, 3, 4, 9, 9, 3, 2, 5, 7, 8, 5, 2, 8, 0, 3, 5, 9, 2, 3, 2, 3, 6, 4,\n",
            "        5, 6, 4, 2, 3, 8, 1, 3, 8, 2, 3, 7, 8, 4, 3, 9, 3, 6, 5, 1, 3, 4, 6, 3,\n",
            "        7, 6, 6, 4, 6, 3, 7, 3, 3, 5, 7, 0, 0, 2, 5, 7, 8, 8, 0, 2, 5, 4, 8, 1,\n",
            "        4, 7, 9, 7, 0, 3, 6, 7, 2, 8, 2, 1, 2, 7, 0, 1, 4, 0, 7, 1, 0, 7, 9, 1,\n",
            "        1, 9, 0, 7, 8, 7, 1, 4, 9, 7, 7, 9, 4, 8, 5, 3, 1, 9, 5, 1, 8, 1, 7, 2,\n",
            "        2, 0, 3, 3, 1, 6, 9, 0, 3, 3, 9, 2, 5, 6, 1, 3, 3, 4, 1, 2, 8, 0, 2, 7,\n",
            "        1, 1, 0, 1, 1, 0, 6, 3, 7, 5, 6, 3, 1, 3, 7, 4, 7, 6, 3, 0, 9, 1, 0, 8,\n",
            "        2, 6, 9, 1, 4, 8, 2, 3, 5, 3, 7, 1, 3, 7, 4, 7, 9, 0, 6, 9, 6, 9, 8, 2,\n",
            "        7, 6, 8, 0, 9, 1, 8, 0, 9, 8, 6, 7, 0, 8, 3, 4, 6, 5, 9, 4, 4, 5, 1, 7,\n",
            "        9, 5, 1, 2, 5, 4, 9, 0, 9, 2, 9, 9, 9, 1, 8, 1, 4, 2, 1, 8, 1, 5, 0, 3,\n",
            "        7, 6, 8, 5, 0, 1, 0, 4, 3, 1, 6, 2, 9, 4, 0, 8, 3, 8, 1, 2, 0, 9, 4, 2,\n",
            "        2, 4, 3, 7, 5, 8, 6, 3, 8, 8, 4, 4, 6, 1, 9, 2, 7, 8, 1, 9, 7, 9, 4, 1,\n",
            "        6, 0, 5, 5, 2, 2, 7, 5, 3, 2, 9, 6, 3, 5, 0, 2, 5, 3, 3, 6, 6, 1, 2, 1,\n",
            "        5, 4, 3, 1, 7, 5, 7, 8])\n"
          ]
        },
        {
          "output_type": "display_data",
          "data": {
            "text/plain": [
              "<Figure size 640x480 with 1 Axes>"
            ],
            "image/png": "[encoded data removed]"
          },
          "metadata": {}
        }
      ],
      "source": [
        "for img_batch, label_batch in data_loader:\n",
        "    print('first batch')\n",
        "    print(img_batch.shape)\n",
        "    plt.imshow(img_batch[0][0], cmap='gray')\n",
        "    print(label_batch)\n",
        "    break"
      ]
    },
    {
      "cell_type": "code",
      "execution_count": 63,
      "metadata": {
        "execution": {
          "iopub.execute_input": "2020-08-17T09:55:43.740949Z",
          "iopub.status.busy": "2020-08-17T09:55:43.739949Z",
          "iopub.status.idle": "2020-08-17T09:55:43.742791Z",
          "shell.execute_reply": "2020-08-17T09:55:43.742276Z"
        },
        "id": "gGVg8kZ8VZOH",
        "papermill": {
          "duration": 0.352355,
          "end_time": "2020-08-17T09:55:43.742903",
          "exception": false,
          "start_time": "2020-08-17T09:55:43.390548",
          "status": "completed"
        },
        "tags": []
      },
      "outputs": [],
      "source": [
        "# Device configuration\n",
        "device = torch.device('cuda' if torch.cuda.is_available() else 'cpu')"
      ]
    },
    {
      "cell_type": "code",
      "execution_count": 64,
      "metadata": {
        "colab": {
          "base_uri": "https://localhost:8080/"
        },
        "execution": {
          "iopub.execute_input": "2020-08-17T09:55:43.774672Z",
          "iopub.status.busy": "2020-08-17T09:55:43.773773Z",
          "iopub.status.idle": "2020-08-17T09:55:43.777927Z",
          "shell.execute_reply": "2020-08-17T09:55:43.777403Z"
        },
        "id": "eerZtGkIVZOH",
        "outputId": "48da73a3-8eed-4d74-d845-2384f0d70a5f",
        "papermill": {
          "duration": 0.021476,
          "end_time": "2020-08-17T09:55:43.778025",
          "exception": false,
          "start_time": "2020-08-17T09:55:43.756549",
          "status": "completed"
        },
        "tags": []
      },
      "outputs": [
        {
          "output_type": "execute_result",
          "data": {
            "text/plain": [
              "device(type='cuda')"
            ]
          },
          "metadata": {},
          "execution_count": 64
        }
      ],
      "source": [
        "device"
      ]
    },
    {
      "cell_type": "markdown",
      "metadata": {
        "id": "ucDnjznxVZOI",
        "papermill": {
          "duration": 0.012711,
          "end_time": "2020-08-17T09:55:43.803739",
          "exception": false,
          "start_time": "2020-08-17T09:55:43.791028",
          "status": "completed"
        },
        "tags": []
      },
      "source": [
        "## 1. Discriminator Network\n",
        "\n",
        "The discriminator takes an image as input, and tries to classify it as \"real\" or \"generated\". In this sense, it's like any other neural network. While we can use a CNN for the discriminator, we'll use a simple feedforward network with 3 linear layers to keep things since. We'll treat each 28x28 image as a vector of size 784."
      ]
    },
    {
      "cell_type": "code",
      "execution_count": 65,
      "metadata": {
        "execution": {
          "iopub.execute_input": "2020-08-17T09:55:43.835108Z",
          "iopub.status.busy": "2020-08-17T09:55:43.834087Z",
          "iopub.status.idle": "2020-08-17T09:55:43.837279Z",
          "shell.execute_reply": "2020-08-17T09:55:43.836767Z"
        },
        "id": "jvY1GM2YVZOI",
        "papermill": {
          "duration": 0.020292,
          "end_time": "2020-08-17T09:55:43.837398",
          "exception": false,
          "start_time": "2020-08-17T09:55:43.817106",
          "status": "completed"
        },
        "tags": []
      },
      "outputs": [],
      "source": [
        "# 28x28 -> 784\n",
        "image_size = 784\n",
        "hidden_size = 256"
      ]
    },
    {
      "cell_type": "code",
      "execution_count": 66,
      "metadata": {
        "execution": {
          "iopub.execute_input": "2020-08-17T09:55:43.870357Z",
          "iopub.status.busy": "2020-08-17T09:55:43.869636Z",
          "iopub.status.idle": "2020-08-17T09:55:43.876096Z",
          "shell.execute_reply": "2020-08-17T09:55:43.875605Z"
        },
        "id": "3JsKEAb9VZOI",
        "papermill": {
          "duration": 0.025096,
          "end_time": "2020-08-17T09:55:43.876208",
          "exception": false,
          "start_time": "2020-08-17T09:55:43.851112",
          "status": "completed"
        },
        "tags": []
      },
      "outputs": [],
      "source": [
        "import torch.nn as nn\n",
        "\n",
        "D = nn.Sequential(\n",
        "  nn.Flatten(),\n",
        "  nn.Linear(image_size, hidden_size),\n",
        "  nn.LeakyReLU(negative_slope=0.2),\n",
        "  #nn.Dropout(0.2), # why not\n",
        "  nn.Linear(hidden_size, 128),\n",
        "  nn.LeakyReLU(negative_slope=0.2),\n",
        "  nn.Linear(128, 1),\n",
        "  nn.Sigmoid()\n",
        ")"
      ]
    },
    {
      "cell_type": "code",
      "execution_count": 67,
      "metadata": {
        "execution": {
          "iopub.execute_input": "2020-08-17T09:55:43.938968Z",
          "iopub.status.busy": "2020-08-17T09:55:43.938202Z",
          "iopub.status.idle": "2020-08-17T09:55:50.942528Z",
          "shell.execute_reply": "2020-08-17T09:55:50.943042Z"
        },
        "id": "K1fmWLNnVZOJ",
        "papermill": {
          "duration": 7.026268,
          "end_time": "2020-08-17T09:55:50.943194",
          "exception": false,
          "start_time": "2020-08-17T09:55:43.916926",
          "status": "completed"
        },
        "tags": []
      },
      "outputs": [],
      "source": [
        "D.to(device);"
      ]
    },
    {
      "cell_type": "markdown",
      "metadata": {
        "id": "GaXQ0sDKVZOJ",
        "papermill": {
          "duration": 0.013316,
          "end_time": "2020-08-17T09:55:50.970787",
          "exception": false,
          "start_time": "2020-08-17T09:55:50.957471",
          "status": "completed"
        },
        "tags": []
      },
      "source": [
        "## 2. Build Generator Network\n",
        "\n",
        "The input to the generator is typically a vector or a matrix which is used as a seed for generating an image. Once again, to keep things simple, we'll use a feedfoward neural network with 3 layers, and the output will be a vector of size 784, which can be transformed to a 28x28 px image."
      ]
    },
    {
      "cell_type": "markdown",
      "metadata": {
        "id": "y9cY38gMVZOK",
        "papermill": {
          "duration": 0.013729,
          "end_time": "2020-08-17T09:55:51.070415",
          "exception": false,
          "start_time": "2020-08-17T09:55:51.056686",
          "status": "completed"
        },
        "tags": []
      },
      "source": [
        ":We use the TanH activation function for the output layer of the generator.\n",
        "\n",
        "<img src=\"https://nic.schraudolph.org/teach/NNcourse/figs/tanh.gif\" width=\"420\" >\n",
        "\n",
        "> \"The ReLU activation (Nair & Hinton, 2010) is used in the generator with the exception of the output layer which uses the Tanh function. We observed that using a bounded activation allowed the model to learn more quickly to saturate and cover the color space of the training distribution. Within the discriminator we found the leaky rectified activation (Maas et al., 2013) (Xu et al., 2015) to work well, especially for higher resolution modeling.\" - [Source](https://stackoverflow.com/questions/41489907/generative-adversarial-networks-tanh)\n",
        "\n",
        "\n",
        "Note that since the outputs of the TanH activation lie in the range `[-1,1]`, we have applied the same transformation to the images in the training dataset. Let's generate an output vector using the generator and view it as an image by transforming and denormalizing the output."
      ]
    },
    {
      "cell_type": "code",
      "execution_count": 68,
      "metadata": {
        "execution": {
          "iopub.execute_input": "2020-08-17T09:55:51.001873Z",
          "iopub.status.busy": "2020-08-17T09:55:51.001092Z",
          "iopub.status.idle": "2020-08-17T09:55:51.003649Z",
          "shell.execute_reply": "2020-08-17T09:55:51.004145Z"
        },
        "id": "yKyIpUuuVZOJ",
        "papermill": {
          "duration": 0.01996,
          "end_time": "2020-08-17T09:55:51.004261",
          "exception": false,
          "start_time": "2020-08-17T09:55:50.984301",
          "status": "completed"
        },
        "tags": []
      },
      "outputs": [],
      "source": [
        "latent_size = 64\n",
        "hidden_size_1 = latent_size*2 # 128\n",
        "hidden_size_2 = latent_size*4 # 256\n",
        "#hidden_size_3 = latent_size*8 # 512"
      ]
    },
    {
      "cell_type": "code",
      "execution_count": 69,
      "metadata": {
        "execution": {
          "iopub.execute_input": "2020-08-17T09:55:51.037163Z",
          "iopub.status.busy": "2020-08-17T09:55:51.036261Z",
          "iopub.status.idle": "2020-08-17T09:55:51.042579Z",
          "shell.execute_reply": "2020-08-17T09:55:51.042077Z"
        },
        "id": "KMPJ-D8wVZOK",
        "papermill": {
          "duration": 0.024698,
          "end_time": "2020-08-17T09:55:51.042678",
          "exception": false,
          "start_time": "2020-08-17T09:55:51.017980",
          "status": "completed"
        },
        "tags": []
      },
      "outputs": [],
      "source": [
        "G = nn.Sequential(\n",
        "    nn.Linear(latent_size, hidden_size_1),\n",
        "    nn.LeakyReLU(negative_slope=0.01),\n",
        "\n",
        "    nn.Linear(hidden_size_1, hidden_size_2),\n",
        "    nn.LeakyReLU(negative_slope=0.01),\n",
        "\n",
        "    nn.Linear(hidden_size_2, image_size),\n",
        "    # nn.LeakyReLU(negative_slope=0.01), # bad: can distort the output distribution\n",
        "\n",
        "    nn.Tanh()\n",
        "  )"
      ]
    },
    {
      "cell_type": "markdown",
      "metadata": {
        "id": "EEnpJkMfVZON",
        "papermill": {
          "duration": 0.014736,
          "end_time": "2020-08-17T09:55:51.840863",
          "exception": false,
          "start_time": "2020-08-17T09:55:51.826127",
          "status": "completed"
        },
        "tags": []
      },
      "source": [
        "## 3. Train the Model\n",
        "\n",
        "* train the model\n",
        "* save samples of generated images after each epoch -> use the ``denorm()`` function"
      ]
    },
    {
      "cell_type": "code",
      "execution_count": 83,
      "metadata": {
        "id": "c_qDyuGul5uu",
        "colab": {
          "base_uri": "https://localhost:8080/"
        },
        "outputId": "27471145-b83b-4d3e-95b6-cd0685efd399"
      },
      "outputs": [
        {
          "output_type": "stream",
          "name": "stdout",
          "text": [
            "Epoch [1/200] | D Loss: 0.9655 | G Loss: 2.0987\n",
            "saved imgs/fake_samples_epoch_001.png\n",
            "Epoch [2/200] | D Loss: 0.7305 | G Loss: 2.5332\n",
            "saved imgs/fake_samples_epoch_002.png\n",
            "Epoch [3/200] | D Loss: 0.8030 | G Loss: 2.6130\n",
            "saved imgs/fake_samples_epoch_003.png\n",
            "Epoch [4/200] | D Loss: 0.8654 | G Loss: 2.9573\n",
            "saved imgs/fake_samples_epoch_004.png\n",
            "Epoch [5/200] | D Loss: 0.7375 | G Loss: 2.5258\n",
            "saved imgs/fake_samples_epoch_005.png\n",
            "Epoch [6/200] | D Loss: 0.6171 | G Loss: 3.5889\n",
            "saved imgs/fake_samples_epoch_006.png\n",
            "Epoch [7/200] | D Loss: 0.6439 | G Loss: 2.9710\n",
            "saved imgs/fake_samples_epoch_007.png\n",
            "Epoch [8/200] | D Loss: 0.7445 | G Loss: 3.1284\n",
            "saved imgs/fake_samples_epoch_008.png\n",
            "Epoch [9/200] | D Loss: 0.7242 | G Loss: 3.5705\n",
            "saved imgs/fake_samples_epoch_009.png\n",
            "Epoch [10/200] | D Loss: 0.7969 | G Loss: 3.4928\n",
            "saved imgs/fake_samples_epoch_010.png\n",
            "Epoch [11/200] | D Loss: 0.6667 | G Loss: 2.4764\n",
            "saved imgs/fake_samples_epoch_011.png\n",
            "Epoch [12/200] | D Loss: 0.7796 | G Loss: 2.9109\n",
            "saved imgs/fake_samples_epoch_012.png\n",
            "Epoch [13/200] | D Loss: 0.6996 | G Loss: 2.8937\n",
            "saved imgs/fake_samples_epoch_013.png\n",
            "Epoch [14/200] | D Loss: 0.7491 | G Loss: 2.5900\n",
            "saved imgs/fake_samples_epoch_014.png\n",
            "Epoch [15/200] | D Loss: 0.6527 | G Loss: 2.6810\n",
            "saved imgs/fake_samples_epoch_015.png\n",
            "Epoch [16/200] | D Loss: 0.8023 | G Loss: 2.8714\n",
            "saved imgs/fake_samples_epoch_016.png\n",
            "Epoch [17/200] | D Loss: 0.7608 | G Loss: 2.5295\n",
            "saved imgs/fake_samples_epoch_017.png\n",
            "Epoch [18/200] | D Loss: 0.8066 | G Loss: 2.4354\n",
            "saved imgs/fake_samples_epoch_018.png\n",
            "Epoch [19/200] | D Loss: 0.6680 | G Loss: 2.9233\n",
            "saved imgs/fake_samples_epoch_019.png\n",
            "Epoch [20/200] | D Loss: 0.7097 | G Loss: 2.8841\n",
            "saved imgs/fake_samples_epoch_020.png\n",
            "Epoch [21/200] | D Loss: 0.7909 | G Loss: 2.8484\n",
            "saved imgs/fake_samples_epoch_021.png\n",
            "Epoch [22/200] | D Loss: 0.7435 | G Loss: 2.3406\n",
            "saved imgs/fake_samples_epoch_022.png\n",
            "Epoch [23/200] | D Loss: 0.8733 | G Loss: 1.9246\n",
            "saved imgs/fake_samples_epoch_023.png\n",
            "Epoch [24/200] | D Loss: 0.7458 | G Loss: 2.5764\n",
            "saved imgs/fake_samples_epoch_024.png\n",
            "Epoch [25/200] | D Loss: 0.8181 | G Loss: 2.6940\n",
            "saved imgs/fake_samples_epoch_025.png\n",
            "Epoch [26/200] | D Loss: 0.7108 | G Loss: 2.5606\n",
            "saved imgs/fake_samples_epoch_026.png\n",
            "Epoch [27/200] | D Loss: 0.8988 | G Loss: 2.2439\n",
            "saved imgs/fake_samples_epoch_027.png\n",
            "Epoch [28/200] | D Loss: 0.7469 | G Loss: 2.4387\n",
            "saved imgs/fake_samples_epoch_028.png\n",
            "Epoch [29/200] | D Loss: 0.8342 | G Loss: 2.0920\n",
            "saved imgs/fake_samples_epoch_029.png\n",
            "Epoch [30/200] | D Loss: 0.7998 | G Loss: 2.6282\n",
            "saved imgs/fake_samples_epoch_030.png\n",
            "Epoch [31/200] | D Loss: 0.8578 | G Loss: 2.3561\n",
            "saved imgs/fake_samples_epoch_031.png\n",
            "Epoch [32/200] | D Loss: 0.7921 | G Loss: 2.4330\n",
            "saved imgs/fake_samples_epoch_032.png\n",
            "Epoch [33/200] | D Loss: 0.6779 | G Loss: 2.5868\n",
            "saved imgs/fake_samples_epoch_033.png\n",
            "Epoch [34/200] | D Loss: 0.7813 | G Loss: 2.5540\n",
            "saved imgs/fake_samples_epoch_034.png\n",
            "Epoch [35/200] | D Loss: 0.8238 | G Loss: 2.1681\n",
            "saved imgs/fake_samples_epoch_035.png\n",
            "Epoch [36/200] | D Loss: 0.8327 | G Loss: 2.4730\n",
            "saved imgs/fake_samples_epoch_036.png\n",
            "Epoch [37/200] | D Loss: 0.7298 | G Loss: 2.9676\n",
            "saved imgs/fake_samples_epoch_037.png\n",
            "Epoch [38/200] | D Loss: 0.7642 | G Loss: 2.7739\n",
            "saved imgs/fake_samples_epoch_038.png\n",
            "Epoch [39/200] | D Loss: 0.7518 | G Loss: 2.4835\n",
            "saved imgs/fake_samples_epoch_039.png\n",
            "Epoch [40/200] | D Loss: 0.8405 | G Loss: 2.4754\n",
            "saved imgs/fake_samples_epoch_040.png\n",
            "Epoch [41/200] | D Loss: 0.8581 | G Loss: 2.1188\n",
            "saved imgs/fake_samples_epoch_041.png\n",
            "Epoch [42/200] | D Loss: 0.8411 | G Loss: 2.1546\n",
            "saved imgs/fake_samples_epoch_042.png\n",
            "Epoch [43/200] | D Loss: 0.8311 | G Loss: 2.0399\n",
            "saved imgs/fake_samples_epoch_043.png\n",
            "Epoch [44/200] | D Loss: 0.7597 | G Loss: 2.5112\n",
            "saved imgs/fake_samples_epoch_044.png\n",
            "Epoch [45/200] | D Loss: 0.7944 | G Loss: 2.3770\n",
            "saved imgs/fake_samples_epoch_045.png\n",
            "Epoch [46/200] | D Loss: 0.7717 | G Loss: 2.1902\n",
            "saved imgs/fake_samples_epoch_046.png\n",
            "Epoch [47/200] | D Loss: 0.7255 | G Loss: 2.6431\n",
            "saved imgs/fake_samples_epoch_047.png\n",
            "Epoch [48/200] | D Loss: 0.7864 | G Loss: 2.7727\n",
            "saved imgs/fake_samples_epoch_048.png\n",
            "Epoch [49/200] | D Loss: 0.9323 | G Loss: 2.2207\n",
            "saved imgs/fake_samples_epoch_049.png\n",
            "Epoch [50/200] | D Loss: 0.8642 | G Loss: 2.8077\n",
            "saved imgs/fake_samples_epoch_050.png\n",
            "Epoch [51/200] | D Loss: 0.9373 | G Loss: 2.3074\n",
            "saved imgs/fake_samples_epoch_051.png\n",
            "Epoch [52/200] | D Loss: 0.8293 | G Loss: 2.6787\n",
            "saved imgs/fake_samples_epoch_052.png\n",
            "Epoch [53/200] | D Loss: 0.7047 | G Loss: 2.5102\n",
            "saved imgs/fake_samples_epoch_053.png\n",
            "Epoch [54/200] | D Loss: 0.7930 | G Loss: 2.4272\n",
            "saved imgs/fake_samples_epoch_054.png\n",
            "Epoch [55/200] | D Loss: 0.8332 | G Loss: 2.0581\n",
            "saved imgs/fake_samples_epoch_055.png\n",
            "Epoch [56/200] | D Loss: 0.7013 | G Loss: 2.0121\n",
            "saved imgs/fake_samples_epoch_056.png\n",
            "Epoch [57/200] | D Loss: 0.6297 | G Loss: 2.7558\n",
            "saved imgs/fake_samples_epoch_057.png\n",
            "Epoch [58/200] | D Loss: 0.8201 | G Loss: 2.9426\n",
            "saved imgs/fake_samples_epoch_058.png\n",
            "Epoch [59/200] | D Loss: 0.8245 | G Loss: 2.1765\n",
            "saved imgs/fake_samples_epoch_059.png\n",
            "Epoch [60/200] | D Loss: 0.9769 | G Loss: 1.7144\n",
            "saved imgs/fake_samples_epoch_060.png\n",
            "Epoch [61/200] | D Loss: 0.9249 | G Loss: 1.9480\n",
            "saved imgs/fake_samples_epoch_061.png\n",
            "Epoch [62/200] | D Loss: 0.8001 | G Loss: 2.3424\n",
            "saved imgs/fake_samples_epoch_062.png\n",
            "Epoch [63/200] | D Loss: 0.9225 | G Loss: 2.0715\n",
            "saved imgs/fake_samples_epoch_063.png\n",
            "Epoch [64/200] | D Loss: 0.8741 | G Loss: 2.1129\n",
            "saved imgs/fake_samples_epoch_064.png\n",
            "Epoch [65/200] | D Loss: 0.8022 | G Loss: 1.9240\n",
            "saved imgs/fake_samples_epoch_065.png\n",
            "Epoch [66/200] | D Loss: 0.8446 | G Loss: 2.4523\n",
            "saved imgs/fake_samples_epoch_066.png\n",
            "Epoch [67/200] | D Loss: 0.9013 | G Loss: 2.4579\n",
            "saved imgs/fake_samples_epoch_067.png\n",
            "Epoch [68/200] | D Loss: 0.8506 | G Loss: 2.0220\n",
            "saved imgs/fake_samples_epoch_068.png\n",
            "Epoch [69/200] | D Loss: 0.8805 | G Loss: 2.2070\n",
            "saved imgs/fake_samples_epoch_069.png\n",
            "Epoch [70/200] | D Loss: 0.8909 | G Loss: 2.7675\n",
            "saved imgs/fake_samples_epoch_070.png\n",
            "Epoch [71/200] | D Loss: 1.0078 | G Loss: 2.0090\n",
            "saved imgs/fake_samples_epoch_071.png\n",
            "Epoch [72/200] | D Loss: 0.8047 | G Loss: 2.1161\n",
            "saved imgs/fake_samples_epoch_072.png\n",
            "Epoch [73/200] | D Loss: 0.9314 | G Loss: 2.4034\n",
            "saved imgs/fake_samples_epoch_073.png\n",
            "Epoch [74/200] | D Loss: 0.8843 | G Loss: 2.2627\n",
            "saved imgs/fake_samples_epoch_074.png\n",
            "Epoch [75/200] | D Loss: 1.0275 | G Loss: 1.7500\n",
            "saved imgs/fake_samples_epoch_075.png\n",
            "Epoch [76/200] | D Loss: 1.0197 | G Loss: 2.1793\n",
            "saved imgs/fake_samples_epoch_076.png\n",
            "Epoch [77/200] | D Loss: 0.8191 | G Loss: 2.3241\n",
            "saved imgs/fake_samples_epoch_077.png\n",
            "Epoch [78/200] | D Loss: 0.7816 | G Loss: 2.1601\n",
            "saved imgs/fake_samples_epoch_078.png\n",
            "Epoch [79/200] | D Loss: 0.9469 | G Loss: 1.7857\n",
            "saved imgs/fake_samples_epoch_079.png\n",
            "Epoch [80/200] | D Loss: 0.8322 | G Loss: 2.3149\n",
            "saved imgs/fake_samples_epoch_080.png\n",
            "Epoch [81/200] | D Loss: 0.9460 | G Loss: 2.1375\n",
            "saved imgs/fake_samples_epoch_081.png\n",
            "Epoch [82/200] | D Loss: 0.9624 | G Loss: 1.9679\n",
            "saved imgs/fake_samples_epoch_082.png\n",
            "Epoch [83/200] | D Loss: 0.9951 | G Loss: 1.7624\n",
            "saved imgs/fake_samples_epoch_083.png\n",
            "Epoch [84/200] | D Loss: 0.8576 | G Loss: 2.2173\n",
            "saved imgs/fake_samples_epoch_084.png\n",
            "Epoch [85/200] | D Loss: 0.9067 | G Loss: 2.0858\n",
            "saved imgs/fake_samples_epoch_085.png\n",
            "Epoch [86/200] | D Loss: 0.9634 | G Loss: 1.9130\n",
            "saved imgs/fake_samples_epoch_086.png\n",
            "Epoch [87/200] | D Loss: 0.8637 | G Loss: 1.7391\n",
            "saved imgs/fake_samples_epoch_087.png\n",
            "Epoch [88/200] | D Loss: 0.9395 | G Loss: 2.4748\n",
            "saved imgs/fake_samples_epoch_088.png\n",
            "Epoch [89/200] | D Loss: 0.8308 | G Loss: 2.0181\n",
            "saved imgs/fake_samples_epoch_089.png\n",
            "Epoch [90/200] | D Loss: 0.9118 | G Loss: 1.8112\n",
            "saved imgs/fake_samples_epoch_090.png\n",
            "Epoch [91/200] | D Loss: 0.8718 | G Loss: 2.1305\n",
            "saved imgs/fake_samples_epoch_091.png\n",
            "Epoch [92/200] | D Loss: 0.7915 | G Loss: 2.2073\n",
            "saved imgs/fake_samples_epoch_092.png\n",
            "Epoch [93/200] | D Loss: 0.8266 | G Loss: 1.9914\n",
            "saved imgs/fake_samples_epoch_093.png\n",
            "Epoch [94/200] | D Loss: 0.9527 | G Loss: 2.1791\n",
            "saved imgs/fake_samples_epoch_094.png\n",
            "Epoch [95/200] | D Loss: 0.9718 | G Loss: 2.1492\n",
            "saved imgs/fake_samples_epoch_095.png\n",
            "Epoch [96/200] | D Loss: 0.8953 | G Loss: 2.0350\n",
            "saved imgs/fake_samples_epoch_096.png\n",
            "Epoch [97/200] | D Loss: 0.7083 | G Loss: 2.4478\n",
            "saved imgs/fake_samples_epoch_097.png\n",
            "Epoch [98/200] | D Loss: 0.8607 | G Loss: 2.3223\n",
            "saved imgs/fake_samples_epoch_098.png\n",
            "Epoch [99/200] | D Loss: 0.9177 | G Loss: 1.7872\n",
            "saved imgs/fake_samples_epoch_099.png\n",
            "Epoch [100/200] | D Loss: 0.8365 | G Loss: 2.0885\n",
            "saved imgs/fake_samples_epoch_100.png\n",
            "Epoch [101/200] | D Loss: 0.8824 | G Loss: 2.0242\n",
            "saved imgs/fake_samples_epoch_101.png\n",
            "Epoch [102/200] | D Loss: 0.9229 | G Loss: 2.3249\n",
            "saved imgs/fake_samples_epoch_102.png\n",
            "Epoch [103/200] | D Loss: 0.7634 | G Loss: 2.5645\n",
            "saved imgs/fake_samples_epoch_103.png\n",
            "Epoch [104/200] | D Loss: 0.8588 | G Loss: 2.2692\n",
            "saved imgs/fake_samples_epoch_104.png\n",
            "Epoch [105/200] | D Loss: 0.9018 | G Loss: 2.0567\n",
            "saved imgs/fake_samples_epoch_105.png\n",
            "Epoch [106/200] | D Loss: 0.8461 | G Loss: 2.5158\n",
            "saved imgs/fake_samples_epoch_106.png\n",
            "Epoch [107/200] | D Loss: 0.7728 | G Loss: 1.9638\n",
            "saved imgs/fake_samples_epoch_107.png\n",
            "Epoch [108/200] | D Loss: 0.7910 | G Loss: 2.8199\n",
            "saved imgs/fake_samples_epoch_108.png\n",
            "Epoch [109/200] | D Loss: 0.7925 | G Loss: 2.0884\n",
            "saved imgs/fake_samples_epoch_109.png\n",
            "Epoch [110/200] | D Loss: 0.9235 | G Loss: 2.0390\n",
            "saved imgs/fake_samples_epoch_110.png\n",
            "Epoch [111/200] | D Loss: 0.8762 | G Loss: 2.5037\n",
            "saved imgs/fake_samples_epoch_111.png\n",
            "Epoch [112/200] | D Loss: 0.8239 | G Loss: 2.0471\n",
            "saved imgs/fake_samples_epoch_112.png\n",
            "Epoch [113/200] | D Loss: 0.9718 | G Loss: 2.1839\n",
            "saved imgs/fake_samples_epoch_113.png\n",
            "Epoch [114/200] | D Loss: 0.8623 | G Loss: 2.3631\n",
            "saved imgs/fake_samples_epoch_114.png\n",
            "Epoch [115/200] | D Loss: 0.8635 | G Loss: 2.5070\n",
            "saved imgs/fake_samples_epoch_115.png\n",
            "Epoch [116/200] | D Loss: 0.8553 | G Loss: 2.2158\n",
            "saved imgs/fake_samples_epoch_116.png\n",
            "Epoch [117/200] | D Loss: 0.8766 | G Loss: 2.0421\n",
            "saved imgs/fake_samples_epoch_117.png\n",
            "Epoch [118/200] | D Loss: 0.7692 | G Loss: 2.1978\n",
            "saved imgs/fake_samples_epoch_118.png\n",
            "Epoch [119/200] | D Loss: 0.8230 | G Loss: 1.8841\n",
            "saved imgs/fake_samples_epoch_119.png\n",
            "Epoch [120/200] | D Loss: 0.9147 | G Loss: 1.7412\n",
            "saved imgs/fake_samples_epoch_120.png\n",
            "Epoch [121/200] | D Loss: 0.9373 | G Loss: 2.1348\n",
            "saved imgs/fake_samples_epoch_121.png\n",
            "Epoch [122/200] | D Loss: 0.8796 | G Loss: 2.7867\n",
            "saved imgs/fake_samples_epoch_122.png\n",
            "Epoch [123/200] | D Loss: 0.7685 | G Loss: 2.2437\n",
            "saved imgs/fake_samples_epoch_123.png\n",
            "Epoch [124/200] | D Loss: 0.8758 | G Loss: 2.4692\n",
            "saved imgs/fake_samples_epoch_124.png\n",
            "Epoch [125/200] | D Loss: 0.8066 | G Loss: 2.4854\n",
            "saved imgs/fake_samples_epoch_125.png\n",
            "Epoch [126/200] | D Loss: 0.8542 | G Loss: 2.1036\n",
            "saved imgs/fake_samples_epoch_126.png\n",
            "Epoch [127/200] | D Loss: 0.8667 | G Loss: 2.1915\n",
            "saved imgs/fake_samples_epoch_127.png\n",
            "Epoch [128/200] | D Loss: 0.8982 | G Loss: 1.8725\n",
            "saved imgs/fake_samples_epoch_128.png\n",
            "Epoch [129/200] | D Loss: 1.0169 | G Loss: 1.7133\n",
            "saved imgs/fake_samples_epoch_129.png\n",
            "Epoch [130/200] | D Loss: 0.8994 | G Loss: 1.5917\n",
            "saved imgs/fake_samples_epoch_130.png\n",
            "Epoch [131/200] | D Loss: 0.7352 | G Loss: 2.0381\n",
            "saved imgs/fake_samples_epoch_131.png\n",
            "Epoch [132/200] | D Loss: 0.8607 | G Loss: 2.1035\n",
            "saved imgs/fake_samples_epoch_132.png\n",
            "Epoch [133/200] | D Loss: 0.8386 | G Loss: 1.8209\n",
            "saved imgs/fake_samples_epoch_133.png\n",
            "Epoch [134/200] | D Loss: 0.8286 | G Loss: 2.0848\n",
            "saved imgs/fake_samples_epoch_134.png\n",
            "Epoch [135/200] | D Loss: 0.9943 | G Loss: 1.6815\n",
            "saved imgs/fake_samples_epoch_135.png\n",
            "Epoch [136/200] | D Loss: 0.9284 | G Loss: 1.8514\n",
            "saved imgs/fake_samples_epoch_136.png\n",
            "Epoch [137/200] | D Loss: 0.9138 | G Loss: 2.4509\n",
            "saved imgs/fake_samples_epoch_137.png\n",
            "Epoch [138/200] | D Loss: 1.0443 | G Loss: 1.5775\n",
            "saved imgs/fake_samples_epoch_138.png\n",
            "Epoch [139/200] | D Loss: 0.8962 | G Loss: 1.9078\n",
            "saved imgs/fake_samples_epoch_139.png\n",
            "Epoch [140/200] | D Loss: 1.0928 | G Loss: 1.6742\n",
            "saved imgs/fake_samples_epoch_140.png\n",
            "Epoch [141/200] | D Loss: 0.8876 | G Loss: 2.0920\n",
            "saved imgs/fake_samples_epoch_141.png\n",
            "Epoch [142/200] | D Loss: 0.9277 | G Loss: 2.1490\n",
            "saved imgs/fake_samples_epoch_142.png\n",
            "Epoch [143/200] | D Loss: 0.8922 | G Loss: 2.1268\n",
            "saved imgs/fake_samples_epoch_143.png\n",
            "Epoch [144/200] | D Loss: 0.9202 | G Loss: 1.9354\n",
            "saved imgs/fake_samples_epoch_144.png\n",
            "Epoch [145/200] | D Loss: 0.9988 | G Loss: 1.8208\n",
            "saved imgs/fake_samples_epoch_145.png\n",
            "Epoch [146/200] | D Loss: 0.8185 | G Loss: 1.9119\n",
            "saved imgs/fake_samples_epoch_146.png\n",
            "Epoch [147/200] | D Loss: 0.9111 | G Loss: 2.0080\n",
            "saved imgs/fake_samples_epoch_147.png\n",
            "Epoch [148/200] | D Loss: 0.7751 | G Loss: 2.2907\n",
            "saved imgs/fake_samples_epoch_148.png\n",
            "Epoch [149/200] | D Loss: 1.0490 | G Loss: 1.7418\n",
            "saved imgs/fake_samples_epoch_149.png\n",
            "Epoch [150/200] | D Loss: 0.9157 | G Loss: 1.8704\n",
            "saved imgs/fake_samples_epoch_150.png\n",
            "Epoch [151/200] | D Loss: 0.9286 | G Loss: 1.8641\n",
            "saved imgs/fake_samples_epoch_151.png\n",
            "Epoch [152/200] | D Loss: 0.8868 | G Loss: 2.0966\n",
            "saved imgs/fake_samples_epoch_152.png\n",
            "Epoch [153/200] | D Loss: 0.8595 | G Loss: 2.2232\n",
            "saved imgs/fake_samples_epoch_153.png\n",
            "Epoch [154/200] | D Loss: 0.8887 | G Loss: 1.8243\n",
            "saved imgs/fake_samples_epoch_154.png\n",
            "Epoch [155/200] | D Loss: 0.9092 | G Loss: 1.8164\n",
            "saved imgs/fake_samples_epoch_155.png\n",
            "Epoch [156/200] | D Loss: 0.8780 | G Loss: 2.5626\n",
            "saved imgs/fake_samples_epoch_156.png\n",
            "Epoch [157/200] | D Loss: 0.7087 | G Loss: 2.6706\n",
            "saved imgs/fake_samples_epoch_157.png\n",
            "Epoch [158/200] | D Loss: 0.7987 | G Loss: 2.5940\n",
            "saved imgs/fake_samples_epoch_158.png\n",
            "Epoch [159/200] | D Loss: 1.0563 | G Loss: 1.9686\n",
            "saved imgs/fake_samples_epoch_159.png\n",
            "Epoch [160/200] | D Loss: 0.8588 | G Loss: 1.9745\n",
            "saved imgs/fake_samples_epoch_160.png\n",
            "Epoch [161/200] | D Loss: 0.9424 | G Loss: 2.1701\n",
            "saved imgs/fake_samples_epoch_161.png\n",
            "Epoch [162/200] | D Loss: 0.9060 | G Loss: 1.9750\n",
            "saved imgs/fake_samples_epoch_162.png\n",
            "Epoch [163/200] | D Loss: 0.8963 | G Loss: 2.4375\n",
            "saved imgs/fake_samples_epoch_163.png\n",
            "Epoch [164/200] | D Loss: 0.8773 | G Loss: 1.9140\n",
            "saved imgs/fake_samples_epoch_164.png\n",
            "Epoch [165/200] | D Loss: 1.0306 | G Loss: 1.6301\n",
            "saved imgs/fake_samples_epoch_165.png\n",
            "Epoch [166/200] | D Loss: 0.8263 | G Loss: 2.4133\n",
            "saved imgs/fake_samples_epoch_166.png\n",
            "Epoch [167/200] | D Loss: 0.8986 | G Loss: 2.1082\n",
            "saved imgs/fake_samples_epoch_167.png\n",
            "Epoch [168/200] | D Loss: 0.8818 | G Loss: 2.2460\n",
            "saved imgs/fake_samples_epoch_168.png\n",
            "Epoch [169/200] | D Loss: 0.8887 | G Loss: 2.1637\n",
            "saved imgs/fake_samples_epoch_169.png\n",
            "Epoch [170/200] | D Loss: 0.9366 | G Loss: 2.2745\n",
            "saved imgs/fake_samples_epoch_170.png\n",
            "Epoch [171/200] | D Loss: 0.8992 | G Loss: 1.9029\n",
            "saved imgs/fake_samples_epoch_171.png\n",
            "Epoch [172/200] | D Loss: 0.8617 | G Loss: 1.9270\n",
            "saved imgs/fake_samples_epoch_172.png\n",
            "Epoch [173/200] | D Loss: 0.9040 | G Loss: 2.0665\n",
            "saved imgs/fake_samples_epoch_173.png\n",
            "Epoch [174/200] | D Loss: 0.9191 | G Loss: 2.2598\n",
            "saved imgs/fake_samples_epoch_174.png\n",
            "Epoch [175/200] | D Loss: 0.9781 | G Loss: 2.1341\n",
            "saved imgs/fake_samples_epoch_175.png\n",
            "Epoch [176/200] | D Loss: 0.9804 | G Loss: 1.8767\n",
            "saved imgs/fake_samples_epoch_176.png\n",
            "Epoch [177/200] | D Loss: 0.9556 | G Loss: 1.7037\n",
            "saved imgs/fake_samples_epoch_177.png\n",
            "Epoch [178/200] | D Loss: 0.8917 | G Loss: 2.2769\n",
            "saved imgs/fake_samples_epoch_178.png\n",
            "Epoch [179/200] | D Loss: 0.9215 | G Loss: 1.8227\n",
            "saved imgs/fake_samples_epoch_179.png\n",
            "Epoch [180/200] | D Loss: 0.9421 | G Loss: 1.8502\n",
            "saved imgs/fake_samples_epoch_180.png\n",
            "Epoch [181/200] | D Loss: 0.9692 | G Loss: 1.6823\n",
            "saved imgs/fake_samples_epoch_181.png\n",
            "Epoch [182/200] | D Loss: 0.7735 | G Loss: 2.5744\n",
            "saved imgs/fake_samples_epoch_182.png\n",
            "Epoch [183/200] | D Loss: 0.9225 | G Loss: 2.1147\n",
            "saved imgs/fake_samples_epoch_183.png\n",
            "Epoch [184/200] | D Loss: 0.9599 | G Loss: 2.4139\n",
            "saved imgs/fake_samples_epoch_184.png\n",
            "Epoch [185/200] | D Loss: 0.9544 | G Loss: 1.7781\n",
            "saved imgs/fake_samples_epoch_185.png\n",
            "Epoch [186/200] | D Loss: 1.0438 | G Loss: 1.5962\n",
            "saved imgs/fake_samples_epoch_186.png\n",
            "Epoch [187/200] | D Loss: 0.9926 | G Loss: 1.8675\n",
            "saved imgs/fake_samples_epoch_187.png\n",
            "Epoch [188/200] | D Loss: 0.9910 | G Loss: 1.7846\n",
            "saved imgs/fake_samples_epoch_188.png\n",
            "Epoch [189/200] | D Loss: 1.0473 | G Loss: 1.7364\n",
            "saved imgs/fake_samples_epoch_189.png\n",
            "Epoch [190/200] | D Loss: 0.9031 | G Loss: 2.0482\n",
            "saved imgs/fake_samples_epoch_190.png\n",
            "Epoch [191/200] | D Loss: 0.8921 | G Loss: 1.7574\n",
            "saved imgs/fake_samples_epoch_191.png\n",
            "Epoch [192/200] | D Loss: 0.9567 | G Loss: 1.8655\n",
            "saved imgs/fake_samples_epoch_192.png\n",
            "Epoch [193/200] | D Loss: 0.9738 | G Loss: 1.9048\n",
            "saved imgs/fake_samples_epoch_193.png\n",
            "Epoch [194/200] | D Loss: 0.9342 | G Loss: 1.8205\n",
            "saved imgs/fake_samples_epoch_194.png\n",
            "Epoch [195/200] | D Loss: 1.0022 | G Loss: 1.8304\n",
            "saved imgs/fake_samples_epoch_195.png\n",
            "Epoch [196/200] | D Loss: 0.9125 | G Loss: 1.9059\n",
            "saved imgs/fake_samples_epoch_196.png\n",
            "Epoch [197/200] | D Loss: 0.9128 | G Loss: 1.8914\n",
            "saved imgs/fake_samples_epoch_197.png\n",
            "Epoch [198/200] | D Loss: 0.8296 | G Loss: 1.8061\n",
            "saved imgs/fake_samples_epoch_198.png\n",
            "Epoch [199/200] | D Loss: 1.0236 | G Loss: 1.5540\n",
            "saved imgs/fake_samples_epoch_199.png\n",
            "Epoch [200/200] | D Loss: 0.8088 | G Loss: 1.8055\n",
            "saved imgs/fake_samples_epoch_200.png\n"
          ]
        }
      ],
      "source": [
        "import torch.optim as optim\n",
        "import torchvision.utils as vutils\n",
        "\n",
        "G = G.to(device)\n",
        "D = D.to(device)\n",
        "\n",
        "## continue training\n",
        "if True:\n",
        "    G.load_state_dict(torch.load(\"models/G.pth\"))\n",
        "    D.load_state_dict(torch.load(\"models/D.pth\"))\n",
        "\n",
        "    G.train()\n",
        "    D.train()\n",
        "\n",
        "criterion = nn.BCELoss()\n",
        "g_optimizer = optim.Adam(G.parameters(), lr=0.0002)\n",
        "d_optimizer = optim.Adam(D.parameters(), lr=0.0002)\n",
        "\n",
        "fixed_noise = torch.randn(64, latent_size, device=device)\n",
        "\n",
        "num_epochs = 400\n",
        "\n",
        "for epoch in range(num_epochs):\n",
        "    for i, (img_batch, label_batch) in enumerate(data_loader, 0):\n",
        "        img_batch = img_batch.to(device)\n",
        "        batch_size = img_batch.size(0)\n",
        "\n",
        "        # Flatten real images (if using fully connected discriminator)\n",
        "        real_images = img_batch.view(batch_size, -1)\n",
        "        real_images = real_images.to(device)\n",
        "        real_images += 0.05 * torch.randn_like(real_images) # make D worse\n",
        "\n",
        "        # Train Discriminator\n",
        "        # Real images\n",
        "\n",
        "        #real_labels = torch.ones(batch_size, 1, device=device)\n",
        "        real_labels = torch.full((batch_size, 1), 0.9, device=device) # make D worse\n",
        "        real_outputs = D(real_images)\n",
        "        d_loss_real = criterion(real_outputs, real_labels)\n",
        "\n",
        "        # Fake images\n",
        "        noise = torch.randn(batch_size, latent_size, device=device)\n",
        "        fake_images = G(noise)\n",
        "        fake_labels = torch.zeros(batch_size, 1, device=device)\n",
        "        fake_outputs = D(fake_images.detach())  # detach: no gradients to G\n",
        "        d_loss_fake = criterion(fake_outputs, fake_labels)\n",
        "\n",
        "        # Total D loss and backprop\n",
        "        d_loss = d_loss_real + d_loss_fake\n",
        "        d_optimizer.zero_grad()\n",
        "        d_loss.backward()\n",
        "        d_optimizer.step()\n",
        "\n",
        "        # Train Generator\n",
        "        noise = torch.randn(batch_size, latent_size, device=device)\n",
        "        fake_images = G(noise)\n",
        "        gen_labels = torch.ones(batch_size, 1, device=device)  # Fool D\n",
        "        outputs = D(fake_images)\n",
        "        g_loss = criterion(outputs, gen_labels)\n",
        "\n",
        "        g_optimizer.zero_grad()\n",
        "        g_loss.backward()\n",
        "        g_optimizer.step()\n",
        "\n",
        "    print(f\"Epoch [{epoch+1}/{num_epochs}] | D Loss: {d_loss.item():.4f} | G Loss: {g_loss.item():.4f}\")\n",
        "\n",
        "    with torch.no_grad():\n",
        "      fake_images = G(fixed_noise).view(-1, 1, 28, 28)\n",
        "      fake_images = (fake_images + 1) / 2  # scale from [-1,1] to [0,1]\n",
        "      vutils.save_image(fake_images, f\"imgs/fake_samples_epoch_{epoch+1:03d}.png\", nrow=8)\n",
        "      print(f\"saved imgs/fake_samples_epoch_{epoch+1:03d}.png\")\n"
      ]
    },
    {
      "cell_type": "code",
      "source": [
        "from IPython.display import Image, display\n",
        "\n",
        "display(Image(filename=\"imgs/fake_samples_epoch_050.png\"))\n",
        "# TODO run more episodes but deadline is due in 3 min :("
      ],
      "metadata": {
        "colab": {
          "base_uri": "https://localhost:8080/",
          "height": 259
        },
        "id": "W8cHBsf8Fgc3",
        "outputId": "4a16e430-05c9-43ee-ae70-ef1f93ad3cec"
      },
      "execution_count": 84,
      "outputs": [
        {
          "output_type": "display_data",
          "data": {
            "image/png": "[encoded data removed]",
            "text/plain": [
              "<IPython.core.display.Image object>"
            ]
          },
          "metadata": {}
        }
      ]
    },
    {
      "cell_type": "code",
      "source": [
        "display(Image(filename=\"imgs/fake_samples_epoch_400.png\"))"
      ],
      "metadata": {
        "id": "lA5GDD3CN-wl",
        "outputId": "1c1519a8-2786-4fca-efb8-649428190a39",
        "colab": {
          "base_uri": "https://localhost:8080/",
          "height": 259
        }
      },
      "execution_count": 86,
      "outputs": [
        {
          "output_type": "display_data",
          "data": {
            "image/png": "[encoded data removed]",
            "text/plain": [
              "<IPython.core.display.Image object>"
            ]
          },
          "metadata": {}
        }
      ]
    },
    {
      "cell_type": "code",
      "source": [
        "import os\n",
        "os.makedirs(\"models\", exist_ok=True)\n",
        "\n",
        "torch.save(G.state_dict(), \"models/G.pth\")\n",
        "torch.save(D.state_dict(), \"models/D.pth\")\n",
        "print(\"Models saved.\")"
      ],
      "metadata": {
        "id": "D0NyBMqTPIYJ",
        "outputId": "5acd77fe-30fe-4262-baf0-36b28f9cebc7",
        "colab": {
          "base_uri": "https://localhost:8080/"
        }
      },
      "execution_count": 82,
      "outputs": [
        {
          "output_type": "stream",
          "name": "stdout",
          "text": [
            "Models saved.\n"
          ]
        }
      ]
    }
  ],
  "metadata": {
    "accelerator": "GPU",
    "colab": {
      "name": "assignment_mnistGAN_solution.ipynb",
      "provenance": [],
      "include_colab_link": true
    },
    "kernelspec": {
      "display_name": "Python 3",
      "language": "python",
      "name": "python3"
    },
    "language_info": {
      "codemirror_mode": {
        "name": "ipython",
        "version": 3
      },
      "file_extension": ".py",
      "mimetype": "text/x-python",
      "name": "python",
      "nbconvert_exporter": "python",
      "pygments_lexer": "ipython3",
      "version": "3.7.6"
    },
    "papermill": {
      "duration": 3906.147471,
      "end_time": "2020-08-17T11:00:34.587734",
      "environment_variables": {},
      "exception": null,
      "input_path": "__notebook__.ipynb",
      "output_path": "__notebook__.ipynb",
      "parameters": {},
      "start_time": "2020-08-17T09:55:28.440263",
      "version": "2.1.0"
    }
  },
  "nbformat": 4,
  "nbformat_minor": 0
}