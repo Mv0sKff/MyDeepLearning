{
  "cells": [
    {
      "cell_type": "markdown",
      "metadata": {
        "id": "view-in-github",
        "colab_type": "text"
      },
      "source": [
        "<a href=\"https://colab.research.google.com/github/Mv0sKff/MyDeepLearning/blob/main/week_1/CIFAR10-ShallowLearning.ipynb\" target=\"_parent\"><img src=\"https://colab.research.google.com/assets/colab-badge.svg\" alt=\"Open In Colab\"/></a>"
      ]
    },
    {
      "cell_type": "markdown",
      "metadata": {
        "id": "P7t4Y8D_BxLK"
      },
      "source": [
        "# Lab 1: CIFAR10 Challenge\n",
        "\n",
        "**CIFAR10** (http://www.cs.toronto.edu/~kriz/cifar.html) is one of the most famous ML data sets.\n",
        "\n",
        "## Data\n",
        "* 32x32 color images\n",
        "* in 10 classes\n",
        "* 50k training images\n",
        "* 10k test images\n",
        "\n"
      ]
    },
    {
      "cell_type": "markdown",
      "metadata": {
        "id": "a8-2lrE9BxLR"
      },
      "source": [
        "<img src=\"https://production-media.paperswithcode.com/datasets/CIFAR-10-0000000431-b71f61c0_U5n3Glr.jpg\" width=700>"
      ]
    },
    {
      "cell_type": "code",
      "source": [
        "from keras.datasets import cifar10\n",
        "import matplotlib.pyplot as plt\n",
        "import numpy as np\n",
        "from sklearn.datasets import make_classification\n",
        "from skimage.feature import local_binary_pattern\n",
        "from sklearn.svm import SVC\n",
        "from sklearn.metrics import accuracy_score\n",
        "from skimage.transform import resize"
      ],
      "metadata": {
        "id": "hBPzAO64aoaT"
      },
      "execution_count": 5,
      "outputs": []
    },
    {
      "cell_type": "code",
      "source": [
        "# helper functions\n",
        "def to_grayscale(img):\n",
        "    return np.dot(img[...,:3], [0.2989, 0.5870, 0.1140])\n",
        "\n",
        "def convert_all_to_grayscale(images):\n",
        "  #result = np.zeros((images.shape[0], images.shape[1], images.shape[2]))\n",
        "  result = []\n",
        "  for index, image in enumerate(images):\n",
        "    #result[index] = to_grayscale(image)\n",
        "    #result[index] = skimg.extract_patches_2d(image, (2, 2))\n",
        "    #result[index] =\n",
        "    #print(image.shape)\n",
        "    result.append(local_binary_pattern(to_grayscale(image), P=8, R=1, method=\"uniform\").flatten())\n",
        "\n",
        "  return np.array(result)"
      ],
      "metadata": {
        "id": "At_sQ76CdCsd"
      },
      "execution_count": 6,
      "outputs": []
    },
    {
      "cell_type": "code",
      "execution_count": 7,
      "metadata": {
        "id": "owj3QsH2BxLS",
        "outputId": "bf9ba86f-d2d2-4128-c0f5-b51ce37858a1",
        "colab": {
          "base_uri": "https://localhost:8080/"
        }
      },
      "outputs": [
        {
          "output_type": "execute_result",
          "data": {
            "text/plain": [
              "(50000, 32, 32, 3)"
            ]
          },
          "metadata": {},
          "execution_count": 7
        }
      ],
      "source": [
        "# get data\n",
        "(X_train, y_train), (X_test, y_test) = cifar10.load_data()\n",
        "X_train.shape"
      ]
    },
    {
      "cell_type": "code",
      "source": [
        "# convert all images to grayscale for less resource intensive pro\n",
        "X_train = convert_all_to_grayscale(X_train)\n",
        "X_train.shape\n",
        "#plt.imshow(X_train[1])\n",
        "#plt.show()"
      ],
      "metadata": {
        "id": "bIjR_J3o0rGY",
        "outputId": "4b775888-5ca9-4f30-ac41-441609713859",
        "colab": {
          "base_uri": "https://localhost:8080/"
        }
      },
      "execution_count": 8,
      "outputs": [
        {
          "output_type": "stream",
          "name": "stderr",
          "text": [
            "/usr/local/lib/python3.11/dist-packages/skimage/feature/texture.py:385: UserWarning: Applying `local_binary_pattern` to floating-point images may give unexpected results when small numerical differences between adjacent pixels are present. It is recommended to use this function with images of integer dtype.\n",
            "  warnings.warn(\n"
          ]
        },
        {
          "output_type": "execute_result",
          "data": {
            "text/plain": [
              "(50000, 1024)"
            ]
          },
          "metadata": {},
          "execution_count": 8
        }
      ]
    },
    {
      "cell_type": "code",
      "source": [
        "imo = to_grayscale(X_train[1])\n",
        "imo.shape"
      ],
      "metadata": {
        "id": "q7PcVTl6299A"
      },
      "execution_count": 9,
      "outputs": []
    },
    {
      "cell_type": "code",
      "source": [
        "#X, y = make_classification(n_samples=1000, n_features=4,\n",
        "#                           n_informative=2, n_redundant=0,\n",
        "#                           random_state=0, shuffle=False)\n",
        "#clf = RandomForestClassifier(max_depth=2, random_state=0)\n",
        "#clf = RandomForestClassifier(n_estimators=100)\n",
        "#clf.fit(X_train, y_train)\n",
        "\n",
        "clf = SVC(kernel='linear')\n",
        "#clf.fit(X_train, y_train)\n",
        "\n",
        "#y_pred = clf.predict(X_test)\n",
        "#accuracy = accuracy_score(Y_test, y_pred)\n",
        "#print(f\"Classification Accuracy: {accuracy:.2f}\")\n"
      ],
      "metadata": {
        "id": "bUZi2yUmzjpH",
        "outputId": "23914afb-dadb-49aa-8468-5f26ea4a47dc",
        "colab": {
          "base_uri": "https://localhost:8080/"
        }
      },
      "execution_count": null,
      "outputs": [
        {
          "output_type": "stream",
          "name": "stderr",
          "text": [
            "/usr/local/lib/python3.11/dist-packages/sklearn/utils/validation.py:1408: DataConversionWarning: A column-vector y was passed when a 1d array was expected. Please change the shape of y to (n_samples, ), for example using ravel().\n",
            "  y = column_or_1d(y, warn=True)\n"
          ]
        }
      ]
    },
    {
      "cell_type": "code",
      "execution_count": null,
      "metadata": {
        "id": "gFjmpalPBxLW"
      },
      "outputs": [],
      "source": [
        "# traindata: 50k 32X32 rgb images\n",
        "X_train.shape"
      ]
    },
    {
      "cell_type": "code",
      "execution_count": null,
      "metadata": {
        "id": "CtB2ZlTkBxLW"
      },
      "outputs": [],
      "source": [
        "# labels\n",
        "y_train"
      ]
    },
    {
      "cell_type": "code",
      "source": [],
      "metadata": {
        "id": "M67ENz0DCJi0"
      },
      "execution_count": null,
      "outputs": []
    },
    {
      "cell_type": "markdown",
      "source": [
        "## Task: build the best classifier (with feature extration) using the methods you know from ML1+2\n",
        "* work in small teams (2-4)\n",
        "* use NumPy pre-processing, feature extraction and hyer-parameter tuning in Scikit-Learn\n",
        "* no Neural Networks!\n",
        "* best test F1-Score winns!"
      ],
      "metadata": {
        "id": "9rEXJUhVCmvB"
      }
    },
    {
      "cell_type": "code",
      "source": [],
      "metadata": {
        "id": "6FXU5hLhDfUP"
      },
      "execution_count": null,
      "outputs": []
    }
  ],
  "metadata": {
    "kernelspec": {
      "display_name": "Python 3",
      "language": "python",
      "name": "python3"
    },
    "language_info": {
      "codemirror_mode": {
        "name": "ipython",
        "version": 3
      },
      "file_extension": ".py",
      "mimetype": "text/x-python",
      "name": "python",
      "nbconvert_exporter": "python",
      "pygments_lexer": "ipython3",
      "version": "3.7.6"
    },
    "colab": {
      "name": "CIFAR10-ShallowLearning.ipynb",
      "provenance": [],
      "include_colab_link": true
    }
  },
  "nbformat": 4,
  "nbformat_minor": 0
}